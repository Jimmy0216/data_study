


import pandas as pd

# mpg 데이터 불러오기
mpg = pd.read_csv('mpg.csv')

# mpg 복사본 만들기
mpg_copy = mpg.copy()
mpg_copy





# 'cty'를 'city'로, 'hwy'를 'highway'로 변수명 변경
mpg_copy = mpg_copy.rename(columns={'cty': 'city', 'hwy': 'highway'})
mpg_copy





# 데이터의 처음 5행을 출력
mpg_copy.head()




