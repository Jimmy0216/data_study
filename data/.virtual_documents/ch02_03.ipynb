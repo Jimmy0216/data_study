import pandas as pd
import seaborn as sns


mpg = pd.read_csv('mpg.csv')


mpg.head()


mpg.shape


mpg.info()


mpg.describe()


mpg.groupby('manufacturer') \
   .agg(mean_hwy = ('hwy', 'mean')) \
   .sort_values('mean_hwy', ascending = False)


sns.scatterplot(data = mpg, x = 'displ', y = 'hwy')



