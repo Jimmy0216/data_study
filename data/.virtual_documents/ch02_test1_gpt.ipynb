








import pandas as pd
df = pd.read_csv('midwest.csv')
df.head()





# 변수명 변경
df = df.rename(columns={'poptotal': 'total', 'popasian': 'asian'})

# 변경된 열 이름 확인
df.head()


















