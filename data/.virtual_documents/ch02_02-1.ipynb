import pandas as pd
df_raw = pd.DataFrame({'var1' : [1, 2, 1],
                       'var2' : [2, 3, 2]})
df_raw


df_new = df_raw.copy() # 복사본 만들기 -> 수정할때는 이렇게 복사본을 만들어서 수정하기
df_new


df_new = df_new.rename(columns = {'var2' : 'v2'}) # var2 를 v2로 수정
df_new


df_raw


import pandas as pd
mpg = pd.read_csv('mpg.csv')
mpg


new_mpg = mpg.copy()
new_mpg


new_mpg = new_mpg.rename(columns = {'cty':'city'})
new_mpg = new_mpg.rename(columns = {'hwy':'highway'}) # new_mpg = new_mpg.rename(columns = {'cty':'city', 'hwy':'highway'}) 한 번에 바꾸는 법
new_mpg.head()



