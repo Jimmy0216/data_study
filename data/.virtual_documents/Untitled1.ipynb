import pandas as pd
exam = pd.read_csv('exam.csv')
exam


# total 변추추가
exam.assign(total = exam['math'] + exam['english'] + exam['science'])


exam.assign(
    total = exam['math'] + exam['english'] + exam['science'],
    mean = (exam['math'] + exam['english'] + exam['science']) / 3)


import numpy as np
exam.assign(test = np.where(exam['science'] >= 60, 'pass', 'fall'))


exam.assign(total = exam['math'] + exam['english'] + exam['science']) \
    .sort_values('total')


exam.assign(total = lambda x: x['math'] + x['english'] + x['science']) # 데이터 프레임이 너무 길때 람다를 사용해서 줄일 수 있음


exam.assign(total = exam['math'] + exam['english'] + exam['science'],
            mean = exam['total'] / 3)


exam.assign(total = exam['math'] + exam['english'] + exam['science'],
            mean = lambda x: x['total'] / 3)


exam.assign(total = lambda x: x['math'] + x['english'] + x['science'],
            mean = lambda x: x['total'] / 3)





mpg = pd.read_csv('mpg.csv')
mpg_new = mpg.copy()
mpg_new.assign(total = mpg_new['cty'] + mpg_new['hwy'])





mpg_new = mpg_new.assign(total = lambda x: x['cty'] + x['hwy'],
              mean = lambda x: x['total'] / 2)





mpg_new.sort_values('mean', ascending = False).head(3)





mpg.assign(total = lambda x: x['cty'] + x['hwy'],
           mean = lambda x: x['total'] / 2) \
    .sort_values('mean', ascending = False) \
    .head(3)





# mpg 데이터 불러오기
mpg = pd.read_csv('mpg.csv')

# mpg 데이터의 복사본 만들기
mpg_copy = mpg.copy()

# 합산 연비 변수 추가
mpg_copy['total_mpg'] = mpg_copy['cty'] + mpg_copy['hwy']
mpg_copy





# 합산 연비 변수 추가
mpg_copy['total_mpg'] = mpg_copy['cty'] + mpg_copy['hwy']

# 평균 연비 변수 추가
mpg_copy['mean_mpg'] = mpg_copy['total_mpg'] / 2

# 결과 데이터 확인 (처음 5행 출력)
mpg_copy.head()





# '평균 연비 변수'를 기준으로 내림차순 정렬하고 상위 3개 행 선택
top_3_mpg = mpg_copy.sort_values('mean_mpg', ascending=False).head(3)

# 결과 출력
top_3_mpg





# 합산 연비와 평균 연비 변수를 추가하고, 평균 연비가 가장 높은 3종의 자동차 데이터 출력
result = (mpg
    .assign(total_mpg = lambda x: x['cty'] + x['hwy'])
    .assign(mean_mpg = lambda x: x['total_mpg'] / 2)
    .sort_values('mean_mpg', ascending=False)
    .head(3)
)

# 결과 출력
result



