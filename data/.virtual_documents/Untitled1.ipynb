import pandas as pd
exam = pd.read_csv('exam.csv')
exam


exam.agg(mean_math = ('math', 'mean')) # math 평균 산출


exam.groupby('nclass') \
    .agg(mean_math = ('math','mean'))


exam.groupby('nclass') \
    .agg(mean_math   = ('math','mean'),
         mean_sum    = ('math','sum'),
         mean_median = ('math','median'),
         n           = ('math','count'))


exam.groupby('nclass', as_index = False) \
    .agg(mean_math = ('math','mean'))





exam.groupby('nclass').mean()


mpg = pd.read_csv('mpg.csv')
mpg


mpg.groupby(['manufacturer', 'drv']) \
    .agg(mean_cty = ('cty', 'mean')) \
    .head(10)


mpg.groupby('drv') \
    .agg(n = ('drv', 'count'))


mpg['drv'].value_counts()





mpg.groupby('category') \
   .agg(mean_cty = ('cty','mean'))





mpg.groupby('category') \
   .agg(mean_cty = ('cty','mean')) \
   .sort_values('mean_cty', ascending = False)





 mpg.groupby('manufacturer') \
    .agg(mean_hwy = ('hwy', 'mean')) \
    .sort_values('mean_hwy', ascending = False) \
    .head(3)





mpg.query('category == "compact"') \
   .groupby('manufacturer') \
   .agg(n = ('manufacturer', 'count')) \
   .sort_values('n', ascending = False)





mpg.groupby('category').agg(mean_cty=('cty', 'mean'))





mpg.groupby('category')\
   .agg(mean_cty=('cty', 'mean'))\
   .sort_values('mean_cty', ascending=False)





mpg.groupby('manufacturer')\
   .agg(mean_hwy=('hwy', 'mean'))\
   .sort_values('mean_hwy', ascending=False)\
   .head(3)





mpg.groupby('manufacturer')\
   .agg(count=('manufacturer', 'count'))\
   .sort_values('count', ascending=False)\
   .head(3)



