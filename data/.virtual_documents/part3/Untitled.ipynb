import pandas as pd
exam = pd.read_csv('exam.csv')
exam



