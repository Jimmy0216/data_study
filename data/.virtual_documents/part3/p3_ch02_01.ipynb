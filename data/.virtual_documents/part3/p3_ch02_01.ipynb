import pandas as pd
exam = pd.read_csv('exam.csv')
exam


exam.head() # 5개의 행을 보여줌


exam.head(10)


exam.tail() # 뒤에서부터 5개의 행을 보여줌


exam.tail(10)


exam.shape #행, 열


exam.info() # 데이터 속성 확인


exam.describe() # 요약 통계량


mpg2 = pd.read_csv('mpg.csv')
mpg2


mpg2.describe()


mpg2.head(10)


mpg2.tail()


mpg2.shape


mpg2.info()


mpg2.describe(include = 'all')


import pandas as pd

# CSV 파일 읽기
df = pd.read_csv('mpg.csv')

# 1. 앞부분 일부 출력
df.head()


# 2. 뒷부분 일부 출력
df.tail()


# 3. 행과 열 크기 출력
df.shape


# 4. 변수 정보 출력
df.info()


# 5. 요약 통계량 출력 (문자 변수 포함)
df.describe(include='all')



