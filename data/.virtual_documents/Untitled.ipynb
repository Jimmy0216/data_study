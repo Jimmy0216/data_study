


import pandas as pd

data = pd.read_csv('mpg.csv')

# category와 cty 변수만 추출한 새로운 데이터 생성
new_data = data[['category', 'cty']]

# 새로운 데이터의 처음 5행 출력
new_data.head()





suv_cty_mean = new_data[new_data['category'] == 'suv']['cty'].mean()
compact_cty_mean = new_data[new_data['category'] == 'compact']['cty'].mean()



