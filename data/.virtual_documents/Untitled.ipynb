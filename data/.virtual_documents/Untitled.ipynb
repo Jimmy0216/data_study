


import pandas as pd

# mpg 데이터 로드
data = pd.read_csv('mpg.csv')

# displ 4 이하와 5 이상으로 그룹화하여 hwy 평균 계산
displ_4_or_less = data[data['displ'] <= 4]['hwy'].mean()
displ_5_or_more = data[data['displ'] >= 5]['hwy'].mean()

# 결과 출력
displ_4_or_less, displ_5_or_more






# audi와 toyota의 cty 평균 계산
audi_cty_mean = data[data['manufacturer'] == 'audi']['cty'].mean()
toyota_cty_mean = data[data['manufacturer'] == 'toyota']['cty'].mean()

# 결과 출력
audi_cty_mean, toyota_cty_mean





# 'chevrolet', 'ford', 'honda' 제조사의 자동차 필터링
selected_cars = data[data['manufacturer'].isin(['chevrolet', 'ford', 'honda'])]

# hwy 전체 평균 계산
hwy_mean = selected_cars['hwy'].mean()

# 결과 출력
hwy_mean



