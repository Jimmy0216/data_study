import pandas as pd
df = pd.DataFrame({'var1' : [4, 3, 8],
                   'var2' : [2, 6, 1]})
df


df['var_sum'] = df['var1'] + df['var2'] # var_sum 파생변수 생성
df


df['var_mean'] = df['var_sum'] / 2


df


mpg = pd.read_csv('mpg.csv')
mpg


mpg['total'] = (mpg['cty'] + mpg['hwy']) / 2
mpg.head()


mpg.info()


sum(mpg['total']) / len(mpg) # total 평균 구하기: 합계를 행 수로 나누기


mpg['total'].mean() # total 평균 구하기: df.mean() 활용


mpg['total'].describe() # 요약 통계량


mpg['total'].plot.hist() # 히스토그램 생성 - seaborn 을 사용하지 않고 그래프를 사용할 수도 있음


import numpy as np
# 20 이상이면 pass, 그렇지 않으면 fail 부열
mpg['test'] = np.where(mpg['total'] >= 20, 'pass', 'fail')


mpg.head(20)


mpg['test'].value_counts() # 연비 합격 빈도표 만들기


count_test = mpg['test'].value_counts() # 연비 합격 빈도표를 변수에 할당
count_test.plot.bar()                    # 빈도 막대 그래프 만들기


count_test.plot.bar(rot = 0) # 축 이름 수평으로 만들기


# total 기준으로 A, B, C 등급 부여
mpg['grade'] = np.where(mpg['total'] >= 30, 'A',
               np.where(mpg['total'] >= 20, 'B', 'C'))


mpg.head(20)


mpg['grade'].value_counts()


count_grade = mpg['grade'].value_counts().sort_index()
count_grade


count_grade.plot.bar(rot = 0)


# A, B, C, D 등급 부여
mpg['grade2'] = np.where(mpg['total'] >= 30, 'A',
                np.where(mpg['total'] >= 25, 'B',
                np.where(mpg['total'] >= 20, 'C', 'D')))


mpg.head(20)


mpg['size'] = np.where((mpg['category'] == 'compact') |
                       (mpg['category'] == 'subcompact') |
                       (mpg['category'] == '2seater'),
                       'small', 'large')
mpg['size'].value_counts()


mpg['size'] = np.where(mpg['category'].isin(['compact', 'subcompact', '2seater']), 'small', 'large')
mpg['size'].value_counts()


# 1. 패키지 로드
import pandas as pd
import numpy as np

# 2. 데이터 불러오기
mpg = pd.read_csv('mpg.csv')

# 3. 데이터 파악
mpg.head()
mpg.tail()
mpg.info()
mpg.shape
mpg.describe()



