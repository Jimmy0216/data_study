import pandas as pd
exam = pd.read_csv('exam.csv')
exam


exam.sort_values('math') # math 오름차순 정렬 0 -> 100


exam.sort_values('math', ascending = False) # 내림차순 정렬


exam.sort_values(['nclass', 'math'])


exam.sort_values(['nclass', 'math'], ascending = [True, False])


exam.sort_values(['nclass', 'english'], ascending = [True, False]).head(5)





mpg = pd.read_csv('mpg.csv')


audi = mpg(['manufacturer == "audi"']
audi.sort_values['hwy'].head(5)


mpg.query('manufacturer == "audi"')\
    .sort_values('hwy', ascending = False)\
    .head()





# mpg 데이터 로드
data = pd.read_csv('mpg.csv')

# 'audi'에서 생산한 자동차 중 hwy 상위 5개 추출 (mpg.query와 메소드 체이닝 사용)
top_5_audi = (data.query("manufacturer == 'audi'") \
              .sort_values(by='hwy', ascending=False) \
              .head(5))

top_5_audi



