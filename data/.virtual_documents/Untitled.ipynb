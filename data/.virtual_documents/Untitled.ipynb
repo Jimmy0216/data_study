import pandas as pd
mw = pd.read_csv('midwest.csv')
mw


mw.head(10)


mw.tail()


mw.shape


mw.info()


mw.describe()


mw_new = mw.copy()


mw_new = mw_new.rename(columns = {'poptotal' : 'total', 'popasian' : 'asian'})


mw_new


mw_new['asian_percentage'] = (mw_new['asian'] / mw_new['total']) * 100


mw_new


mw_new['asian_percentage'].plot.hist()


import numpy as np
mw_new['asian_percentage'].mean()


mw_new['group'] = np.where(mw_new['asian_percentage'] > 0.4872, 'large', 'small')


count_group = mw_new['group'].value_counts()
count_group


count_group.plot.bar(rot = 0)



