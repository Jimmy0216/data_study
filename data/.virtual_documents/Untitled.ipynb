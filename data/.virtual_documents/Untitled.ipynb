import pandas as pd
df_exam = pd.read_excel('excel_exam.xlsx')
df_exam


sum(df_exam['math'] / 20)


x = [1,2,3,4,5]
x


len(x)


df = pd.DataFrame({'a' : [1, 2, 3],
                   'b' : [4, 5, 6]})
df


len(df)


sum(df_exam['math']) / len(df_exam)


sum(df_exam['english']) / len(df_exam)


sum(df_exam['science']) / len(df_exam)


df_exam_novar = pd.read_excel('excel_exam_novar.xlsx', header = None)
df_exam_novar


# Sheet2 시트의 데이터 불러오기
df_exam = pd.read_excel('excel_exam.xlsx', sheet_name = 'Sheet2')


# 세 번째 시트의 데이터 불러오기
df_exam = pd.read_excel('excel_exam.xlsx', sheet_name = 2)


exam = pd.read_csv('exam.csv')
exam


df_exam.to_csv('output_newdata.csv')


df_exam.to_csv('output_newdata.csv', index = False)


df = pd.read_cexel('excel_exam.xlsx')



