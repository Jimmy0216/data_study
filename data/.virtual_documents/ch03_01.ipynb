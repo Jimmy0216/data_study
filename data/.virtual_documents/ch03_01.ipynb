import pandas as pd # 패키지로드
mpg = pd.read_csv('mpg.csv') # 데이터 불러오기
mpg # 출력


mpg['hwy']


mpg['hwy'].mean()


mpg['hwy'].max()


import seaborn as sns


sns.histplot(x = mpg['hwy'])


mpg.head()


mpg = pd.read_csv('mpg.csv')


import pandas as pd


sns.histplot(x = mpg['hwy'])


import seaborn as sns


df = sns.load_dataset('titanic')
df.head()


df.head(n = 10)


df.head(n=3)


# x 축 class
sns.countplot(data = df, y = 'class', hue = 'alive')


sns.countplot?



