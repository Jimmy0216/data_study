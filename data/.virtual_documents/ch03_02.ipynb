import pandas as pd
exam = pd.read_csv('exam.csv')
exam


# 시리즈로 추출 - 변수가 안보임
exam['math'] 


exam['english']


exam[['nclass', 'math', 'english']]


# 데이터프레임 구조로 추출
exam[['math']] 


exam.drop(columns = 'math') # math 제외


exam.drop(columns = ['math', 'english'])


# nclass가 1인 행만 추출
exam.query('nclass == 1')


# nclass가 1인 행만 추출한 다음 english 추출
exam.query('nclass == 1')['english']


exam.query('nclass == 2')['math']





exam.query('math >= 50')[['id', 'math']]


exam.query('math >= 50')[['id', 'math']].head(10)


# 줄바꿈 뒤에는 아무것도(주석도) 넣으면 안됨
exam.query('math >= 50') \
    [['id', 'math']] \
    .head(10)





mpg = pd.read_csv('mpg.csv')
new = mpg[['category','cty']]
new.head()





mpg_suv = mpg.query('category == "suv"')
mpg_compact = mpg.query('category == "compact"')
mpg_suv['cty'].mean()


mpg_compact['cty'].mean()


mpg.query('category == "suv"')['cty'].mean()


mpg.query('category == "compact"')['cty'].mean()



