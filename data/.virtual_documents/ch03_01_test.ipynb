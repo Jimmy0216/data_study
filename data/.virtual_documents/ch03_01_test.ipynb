import pandas as pd
exam = pd.read_csv('exam.csv')
exam


# exam에서 nclass 가 1인 경우만 추출
exam.query('nclass == 1')


exam.query('nclass == 2')


exam.query('nclass != 1')


exam.query('nclass != 2')


exam.query('math > 50')


exam.query('math < 50')


exam.query('english >= 80')


exam.query('english <= 80')


exam.query('nclass == 1 & math >= 50')


exam.query('nclass == 2 & english >= 80')


exam.query('math >=90 | english >= 90')


exam.query('english <90 | science < 50')


exam.query('nclass ==1 | nclass == 3 | nclass ==5')


exam.query('nclass in [1, 3, 5]')


# Q 1반과 2반의 수학 점수 평균 구하기
nclass1 = exam.query('nclass == 1')
nclass2 = exam.query('nclass == 2')


nclass1


nclass2


nclass1['math'].mean()


nclass2['math'].mean()


df = pd.DataFrame({'sex' : ['F', 'M', 'F', 'M'],
                   'country' : ['Korea', 'China', 'Japan', 'USA']})
df


df.query('sex == "F" & country == "Korea"')


df.query("sex == 'M' & country == 'China'")





mpg = pd.read_csv('mpg.csv')
displ4 = mpg.query('displ <= 4')
displ5 = mpg.query('displ >= 5') 
displ4['hwy'].mean()


displ5['hwy'].mean()





audi = mpg.query('manufacturer == "audi"')
toyota = mpg.query('manufacturer == "toyota"')


audi['cty'].mean()


toyota['cty'].mean()





three = mpg.query('manufacturer in ["chevrolet","ford","honda"]')
three['hwy'].mean()



