# 이상치 데이터 정제
import pandas as pd
import numpy as np
import seaborn as sns

# 이상치 제거하기 - 1.존재할 수 없는값
outlier = pd.DataFrame({'sex'   : [1,2,1,3,2,1,],
                         'score' : [5,4,3,4,2,6]})
outlier


outlier['sex'].value_counts().sort_index() # 3이 이상치


outlier['score'].value_counts().sort_index() # 6이 이상치


# sex가 3이면 NaN 할당
outlier['sex'] = np.where(outlier['sex'] == 3, np.nan, outlier['sex'])
outlier


# score가 5보다 크면 NaN 할당
outlier['score'] = np.where(outlier['score'] > 5, np.nan, outlier['score'])
outlier


outlier.dropna(subset = ['sex','score']) \
       .groupby('sex') \
       .agg(mean_score = ('score', 'mean'))


# 이상치 제거하기 - 2. 극단적인 값


mpg = pd.read_csv('mpg.csv')
sns.boxplot(data = mpg, y = 'hwy')


# 1사분위수 구하기
pct25 = mpg['hwy'].quantile(.25)
pct25


# 3사분위수 구하기
pct75 = mpg['hwy'].quantile(.75)
pct75


# IQR 구하기
iqr = pct75 - pct25
iqr


# 하한, 상한 구하기
pct25 - 1.5 * iqr # 하한


pct75 + 1.5 * iqr # 상한


# 4.5 ~ 40.5 벗어나면 NaN 부여
mpg['hwy'] = np.where((mpg['hwy'] < 4.5) | (mpg['hwy'] > 40.5),
                      np.nan, mpg['hwy'])

# 결측치 빈도 확인
mpg['hwy'].isna().sum()


mpg.dropna(subset = 'hwy') \        # 결측치 제거
   .groupby('drv') \                # drv별 분리
   .agg(mean_hwy = ('hwy', 'mean')) # hwy 평균 구하기





mpg = pd.read_csv('mpg.csv')                         # mpg 데이터 불러오기
mpg.loc[[9, 13, 57, 92], 'drv'] = 'k'                # drv 이상치 할당
mpg.loc[[28, 42, 128, 202], 'cty'] = [3, 4, 39, 42]  # cty 이상치 할당



mpg['drv'].value_counts().sort_index()


# drv가 4,f,r 이면 기존 값 유지, 그 외 NaN 할당
mpg['drv'] = np.where(mpg['drv'].isin(['4','f','r']), mpg['drv'], np.nan)

# 이상치 확인
mpg['drv'].value_counts().sort_index()





sns.boxplot(data = mpg, y = 'cty')





pct25 = mpg['cty'].quantile(.25)
pct75 = mpg['cty'].quantile(.75)
iqr = pct75 - pct25


pct25 - 1.5 * iqr


pct75 + 1.5 * iqr


mpg['cty'] = np.where((mpg['cty'] < 6.5) | (mpg['cty'] > 26.5),
                       np.nan, mpg['cty'])


sns.boxplot(data = mpg, y = 'cty')


mpg.dropna(subset = ['drv','cty']) \        # 결측치 제거
   .groupby('drv') \                # drv별 분리
   .agg(mean_cty = ('cty', 'mean')) # hwy 평균 구하기



