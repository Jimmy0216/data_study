{
 "cells": [
  {
   "cell_type": "markdown",
   "id": "43adff41-b81f-4fcb-a52c-3fd15e10b5af",
   "metadata": {},
   "source": [
    "Q1. 자동차 배기량에 따라 고속도로 연비가 다른지 알아보려고합니다. displ(배기량) 4 이하인 자동차와 5 이상인 자동차 중 어떤 자동차의 hwy(고속도로 연비)가 평균적으로 더 높은지 알아보세요."
   ]
  },
  {
   "cell_type": "code",
   "execution_count": 1,
   "id": "865de738-3757-4780-900b-153582433df3",
   "metadata": {},
   "outputs": [
    {
     "data": {
      "text/plain": [
       "(25.96319018404908, 18.07894736842105)"
      ]
     },
     "execution_count": 1,
     "metadata": {},
     "output_type": "execute_result"
    }
   ],
   "source": [
    "import pandas as pd\n",
    "\n",
    "# mpg 데이터 로드\n",
    "data = pd.read_csv('mpg.csv')\n",
    "\n",
    "# displ 4 이하와 5 이상으로 그룹화하여 hwy 평균 계산\n",
    "displ_4_or_less = data[data['displ'] <= 4]['hwy'].mean()\n",
    "displ_5_or_more = data[data['displ'] >= 5]['hwy'].mean()\n",
    "\n",
    "# 결과 출력\n",
    "displ_4_or_less, displ_5_or_more\n"
   ]
  },
  {
   "cell_type": "markdown",
   "id": "3aceb9ee-af66-4cf8-ae86-e5db9fe24381",
   "metadata": {},
   "source": [
    "Q2. 자동차 제조 회사에 따라 도시 연비가 다른지 알아보려고 합니다. 'audi'와 'toyota' 중 어느 manufactuer(자동차 제조 회사)의 cty(도시 연비)가 평균적으로 더 높은지 알아보세요."
   ]
  },
  {
   "cell_type": "code",
   "execution_count": 2,
   "id": "ad94199b-814e-4901-85ec-cf127a4e80a3",
   "metadata": {},
   "outputs": [
    {
     "data": {
      "text/plain": [
       "(17.61111111111111, 18.529411764705884)"
      ]
     },
     "execution_count": 2,
     "metadata": {},
     "output_type": "execute_result"
    }
   ],
   "source": [
    "# audi와 toyota의 cty 평균 계산\n",
    "audi_cty_mean = data[data['manufacturer'] == 'audi']['cty'].mean()\n",
    "toyota_cty_mean = data[data['manufacturer'] == 'toyota']['cty'].mean()\n",
    "\n",
    "# 결과 출력\n",
    "audi_cty_mean, toyota_cty_mean"
   ]
  },
  {
   "cell_type": "markdown",
   "id": "eda4fb50-d09c-490d-9e61-81fca037a59f",
   "metadata": {},
   "source": [
    "Q3. 'chevrolet', 'ford', 'honda' 자동차의 고속도로 연비 평균을 알아보려고 합니다. 이 회사들의 자동차를 추출한 뒤 hwy 전체 평균을 구해보세요."
   ]
  },
  {
   "cell_type": "code",
   "execution_count": null,
   "id": "a8d603a3-9148-4f95-8629-f2fb6fea3e9e",
   "metadata": {},
   "outputs": [],
   "source": []
  }
 ],
 "metadata": {
  "kernelspec": {
   "display_name": "Python 3 (ipykernel)",
   "language": "python",
   "name": "python3"
  },
  "language_info": {
   "codemirror_mode": {
    "name": "ipython",
    "version": 3
   },
   "file_extension": ".py",
   "mimetype": "text/x-python",
   "name": "python",
   "nbconvert_exporter": "python",
   "pygments_lexer": "ipython3",
   "version": "3.12.7"
  }
 },
 "nbformat": 4,
 "nbformat_minor": 5
}
