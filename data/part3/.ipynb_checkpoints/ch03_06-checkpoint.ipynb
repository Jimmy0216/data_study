{
 "cells": [
  {
   "cell_type": "markdown",
   "id": "dadf6c4b-f6a0-4823-a538-1e555f1fc97b",
   "metadata": {},
   "source": [
    "midwest 데이터는 미국 동북중부 437개 지역의 인구통계 정보를 담고 있습니다. midwest.csv를\n",
    "이용해서 데이터 분석 문제를 해결해보세요."
   ]
  },
  {
   "cell_type": "markdown",
   "id": "16bc1352-290a-411e-87d7-17ee48f0ed1b",
   "metadata": {},
   "source": [
    "Q1. popadults는 해당 지역의 성인 인구, poptotal은 전체 인구를 나타냅니다. midwest 데이터에\n",
    "        '전체 인구 대비 미성년 인구 백분율' 변수를 추가하세요."
   ]
  },
  {
   "cell_type": "code",
   "execution_count": 9,
   "id": "59341625-a44d-489f-a401-5d48d62054f5",
   "metadata": {},
   "outputs": [],
   "source": [
    "import pandas as pd\n",
    "midwest = pd.read_csv('midwest.csv')\n",
    "midwest['ratio'] = (midwest['poptotal'] - midwest['popadults']) \\\n",
    "                    / midwest['poptotal'] * 100"
   ]
  },
  {
   "cell_type": "markdown",
   "id": "f6149733-26be-4759-a7da-1f3080ff90bd",
   "metadata": {},
   "source": [
    "Q2. 미성년 인구 백분율이 가장 높은 상위 5개 county(지역)의 미성년 인구 백분율을 출력하세요."
   ]
  },
  {
   "cell_type": "code",
   "execution_count": 10,
   "id": "6ec46439-8648-4aea-ac6c-defd465949fb",
   "metadata": {},
   "outputs": [
    {
     "data": {
      "text/html": [
       "<div>\n",
       "<style scoped>\n",
       "    .dataframe tbody tr th:only-of-type {\n",
       "        vertical-align: middle;\n",
       "    }\n",
       "\n",
       "    .dataframe tbody tr th {\n",
       "        vertical-align: top;\n",
       "    }\n",
       "\n",
       "    .dataframe thead th {\n",
       "        text-align: right;\n",
       "    }\n",
       "</style>\n",
       "<table border=\"1\" class=\"dataframe\">\n",
       "  <thead>\n",
       "    <tr style=\"text-align: right;\">\n",
       "      <th></th>\n",
       "      <th>county</th>\n",
       "      <th>ratio</th>\n",
       "    </tr>\n",
       "  </thead>\n",
       "  <tbody>\n",
       "    <tr>\n",
       "      <th>230</th>\n",
       "      <td>ISABELLA</td>\n",
       "      <td>51.501172</td>\n",
       "    </tr>\n",
       "    <tr>\n",
       "      <th>404</th>\n",
       "      <td>MENOMINEE</td>\n",
       "      <td>50.591260</td>\n",
       "    </tr>\n",
       "    <tr>\n",
       "      <th>281</th>\n",
       "      <td>ATHENS</td>\n",
       "      <td>49.320727</td>\n",
       "    </tr>\n",
       "    <tr>\n",
       "      <th>247</th>\n",
       "      <td>MECOSTA</td>\n",
       "      <td>49.059183</td>\n",
       "    </tr>\n",
       "    <tr>\n",
       "      <th>154</th>\n",
       "      <td>MONROE</td>\n",
       "      <td>47.358182</td>\n",
       "    </tr>\n",
       "  </tbody>\n",
       "</table>\n",
       "</div>"
      ],
      "text/plain": [
       "        county      ratio\n",
       "230   ISABELLA  51.501172\n",
       "404  MENOMINEE  50.591260\n",
       "281     ATHENS  49.320727\n",
       "247    MECOSTA  49.059183\n",
       "154     MONROE  47.358182"
      ]
     },
     "execution_count": 10,
     "metadata": {},
     "output_type": "execute_result"
    }
   ],
   "source": [
    "midwest.sort_values('ratio', ascending = False) \\\n",
    "                    .head(5) \\\n",
    "                    [['county', 'ratio']]"
   ]
  },
  {
   "cell_type": "markdown",
   "id": "2e00fadd-c9fa-43f8-884b-fa80406ce8c2",
   "metadata": {},
   "source": [
    "Q3. 분류표의 기준에 따라 미성년 비율 등급 변수를 추가하고, 각 등급에 몇 개의 지역이 있는지 알아보세요."
   ]
  },
  {
   "cell_type": "code",
   "execution_count": 13,
   "id": "45167cd0-cd86-4bb7-bf56-e21826569e24",
   "metadata": {},
   "outputs": [
    {
     "data": {
      "text/html": [
       "<div>\n",
       "<style scoped>\n",
       "    .dataframe tbody tr th:only-of-type {\n",
       "        vertical-align: middle;\n",
       "    }\n",
       "\n",
       "    .dataframe tbody tr th {\n",
       "        vertical-align: top;\n",
       "    }\n",
       "\n",
       "    .dataframe thead th {\n",
       "        text-align: right;\n",
       "    }\n",
       "</style>\n",
       "<table border=\"1\" class=\"dataframe\">\n",
       "  <thead>\n",
       "    <tr style=\"text-align: right;\">\n",
       "      <th></th>\n",
       "      <th>n</th>\n",
       "    </tr>\n",
       "    <tr>\n",
       "      <th>grade</th>\n",
       "      <th></th>\n",
       "    </tr>\n",
       "  </thead>\n",
       "  <tbody>\n",
       "    <tr>\n",
       "      <th>large</th>\n",
       "      <td>32</td>\n",
       "    </tr>\n",
       "    <tr>\n",
       "      <th>middle</th>\n",
       "      <td>396</td>\n",
       "    </tr>\n",
       "    <tr>\n",
       "      <th>small</th>\n",
       "      <td>9</td>\n",
       "    </tr>\n",
       "  </tbody>\n",
       "</table>\n",
       "</div>"
      ],
      "text/plain": [
       "          n\n",
       "grade      \n",
       "large    32\n",
       "middle  396\n",
       "small     9"
      ]
     },
     "execution_count": 13,
     "metadata": {},
     "output_type": "execute_result"
    }
   ],
   "source": [
    "import numpy as np\n",
    "midwest['grade'] = np.where(midwest['ratio'] >= 40, 'large',\n",
    "                   np.where(midwest['ratio'] >= 30, 'middle', 'small'))\n",
    "midwest.groupby('grade') \\\n",
    "       .agg(n = ('grade', 'count'))"
   ]
  },
  {
   "cell_type": "markdown",
   "id": "23e2fc54-c867-4511-868a-6e4244a2efc4",
   "metadata": {},
   "source": [
    "Q4. popasian은 해당 지역의 아시아인 인구를 나타냅니다. '전체 인구 대비 아시아인 인구 백분율' 변수를\n",
    "        추가하고, 하위 10개 지역의 state(주), county(지역명), 아시아인 인구 백분율을 출력하세요."
   ]
  },
  {
   "cell_type": "code",
   "execution_count": null,
   "id": "8f2a40b4-5d9f-44c4-a9c1-b967b205e0e2",
   "metadata": {},
   "outputs": [],
   "source": []
  }
 ],
 "metadata": {
  "kernelspec": {
   "display_name": "Python 3 (ipykernel)",
   "language": "python",
   "name": "python3"
  },
  "language_info": {
   "codemirror_mode": {
    "name": "ipython",
    "version": 3
   },
   "file_extension": ".py",
   "mimetype": "text/x-python",
   "name": "python",
   "nbconvert_exporter": "python",
   "pygments_lexer": "ipython3",
   "version": "3.12.7"
  }
 },
 "nbformat": 4,
 "nbformat_minor": 5
}
