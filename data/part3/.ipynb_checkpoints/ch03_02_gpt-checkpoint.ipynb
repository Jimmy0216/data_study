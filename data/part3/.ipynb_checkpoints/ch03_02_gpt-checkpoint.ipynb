{
 "cells": [
  {
   "cell_type": "markdown",
   "id": "24479cd7-260c-4f7c-8ae0-7015bf8a7db7",
   "metadata": {},
   "source": [
    "Q1. mpg 데이터는 11개 변수로 구성되어 있습니다. 이 중 일부만 추출해서 분석에 활용하려고 합니다.\n",
    "    mpg 데이터에서 category(자동차 종류), cty(도시연비)변수를 추출해 새로운 데이터를 만드세요.\n",
    "    새로 만든 데이터의 일부를 출력해서 두 변수로만 구성되어 있는지 확인하세요.\n",
    "    "
   ]
  },
  {
   "cell_type": "code",
   "execution_count": 2,
   "id": "048ded96-638f-4d70-a37f-6c3b5bac8b8b",
   "metadata": {},
   "outputs": [
    {
     "data": {
      "text/html": [
       "<div>\n",
       "<style scoped>\n",
       "    .dataframe tbody tr th:only-of-type {\n",
       "        vertical-align: middle;\n",
       "    }\n",
       "\n",
       "    .dataframe tbody tr th {\n",
       "        vertical-align: top;\n",
       "    }\n",
       "\n",
       "    .dataframe thead th {\n",
       "        text-align: right;\n",
       "    }\n",
       "</style>\n",
       "<table border=\"1\" class=\"dataframe\">\n",
       "  <thead>\n",
       "    <tr style=\"text-align: right;\">\n",
       "      <th></th>\n",
       "      <th>category</th>\n",
       "      <th>cty</th>\n",
       "    </tr>\n",
       "  </thead>\n",
       "  <tbody>\n",
       "    <tr>\n",
       "      <th>0</th>\n",
       "      <td>compact</td>\n",
       "      <td>18</td>\n",
       "    </tr>\n",
       "    <tr>\n",
       "      <th>1</th>\n",
       "      <td>compact</td>\n",
       "      <td>21</td>\n",
       "    </tr>\n",
       "    <tr>\n",
       "      <th>2</th>\n",
       "      <td>compact</td>\n",
       "      <td>20</td>\n",
       "    </tr>\n",
       "    <tr>\n",
       "      <th>3</th>\n",
       "      <td>compact</td>\n",
       "      <td>21</td>\n",
       "    </tr>\n",
       "    <tr>\n",
       "      <th>4</th>\n",
       "      <td>compact</td>\n",
       "      <td>16</td>\n",
       "    </tr>\n",
       "  </tbody>\n",
       "</table>\n",
       "</div>"
      ],
      "text/plain": [
       "  category  cty\n",
       "0  compact   18\n",
       "1  compact   21\n",
       "2  compact   20\n",
       "3  compact   21\n",
       "4  compact   16"
      ]
     },
     "execution_count": 2,
     "metadata": {},
     "output_type": "execute_result"
    }
   ],
   "source": [
    "import pandas as pd\n",
    "\n",
    "data = pd.read_csv('mpg.csv')\n",
    "\n",
    "# category와 cty 변수만 추출한 새로운 데이터 생성\n",
    "new_data = data[['category', 'cty']]\n",
    "\n",
    "# 새로운 데이터의 처음 5행 출력\n",
    "new_data.head()"
   ]
  },
  {
   "cell_type": "markdown",
   "id": "c188d504-cc9d-4404-b02d-3ca95825841b",
   "metadata": {},
   "source": [
    "Q2. 자동차 종류에 따라 도시 연비가 다른지 알아보려고 합니다. 앞에서 추출한 데이터를 이용해서\n",
    "    category가 'suv'인 자동차와 'compact'인 자동차 중 어떤 자동차의 cty 평균이 더 높은지 알아보세요."
   ]
  },
  {
   "cell_type": "code",
   "execution_count": 5,
   "id": "473118f9-0c71-45d7-b346-5f2ea5cac464",
   "metadata": {},
   "outputs": [
    {
     "data": {
      "text/plain": [
       "(13.5, 20.127659574468087)"
      ]
     },
     "execution_count": 5,
     "metadata": {},
     "output_type": "execute_result"
    }
   ],
   "source": [
    "# category가 'suv'인 자동차와 'compact'인 자동차의 cty 평균 계산\n",
    "suv_cty_mean = new_data[new_data['category'] == 'suv']['cty'].mean()\n",
    "compact_cty_mean = new_data[new_data['category'] == 'compact']['cty'].mean()\n",
    "\n",
    "# 결과 출력\n",
    "suv_cty_mean, compact_cty_mean"
   ]
  },
  {
   "cell_type": "code",
   "execution_count": null,
   "id": "6fe7eec2-9f83-4dbc-be06-0e74bda45d91",
   "metadata": {},
   "outputs": [],
   "source": []
  }
 ],
 "metadata": {
  "kernelspec": {
   "display_name": "Python 3 (ipykernel)",
   "language": "python",
   "name": "python3"
  },
  "language_info": {
   "codemirror_mode": {
    "name": "ipython",
    "version": 3
   },
   "file_extension": ".py",
   "mimetype": "text/x-python",
   "name": "python",
   "nbconvert_exporter": "python",
   "pygments_lexer": "ipython3",
   "version": "3.12.7"
  }
 },
 "nbformat": 4,
 "nbformat_minor": 5
}
