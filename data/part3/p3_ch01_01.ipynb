{
 "cells": [
  {
   "cell_type": "code",
   "execution_count": 4,
   "id": "e3d626d0-76f3-4185-9a54-316e33ac1f16",
   "metadata": {},
   "outputs": [
    {
     "data": {
      "text/html": [
       "<div>\n",
       "<style scoped>\n",
       "    .dataframe tbody tr th:only-of-type {\n",
       "        vertical-align: middle;\n",
       "    }\n",
       "\n",
       "    .dataframe tbody tr th {\n",
       "        vertical-align: top;\n",
       "    }\n",
       "\n",
       "    .dataframe thead th {\n",
       "        text-align: right;\n",
       "    }\n",
       "</style>\n",
       "<table border=\"1\" class=\"dataframe\">\n",
       "  <thead>\n",
       "    <tr style=\"text-align: right;\">\n",
       "      <th></th>\n",
       "      <th>name</th>\n",
       "      <th>english</th>\n",
       "      <th>math</th>\n",
       "    </tr>\n",
       "  </thead>\n",
       "  <tbody>\n",
       "    <tr>\n",
       "      <th>0</th>\n",
       "      <td>김지훈</td>\n",
       "      <td>90</td>\n",
       "      <td>50</td>\n",
       "    </tr>\n",
       "    <tr>\n",
       "      <th>1</th>\n",
       "      <td>이유진</td>\n",
       "      <td>80</td>\n",
       "      <td>60</td>\n",
       "    </tr>\n",
       "    <tr>\n",
       "      <th>2</th>\n",
       "      <td>박동현</td>\n",
       "      <td>60</td>\n",
       "      <td>100</td>\n",
       "    </tr>\n",
       "    <tr>\n",
       "      <th>3</th>\n",
       "      <td>김민지</td>\n",
       "      <td>70</td>\n",
       "      <td>20</td>\n",
       "    </tr>\n",
       "  </tbody>\n",
       "</table>\n",
       "</div>"
      ],
      "text/plain": [
       "  name  english  math\n",
       "0  김지훈       90    50\n",
       "1  이유진       80    60\n",
       "2  박동현       60   100\n",
       "3  김민지       70    20"
      ]
     },
     "execution_count": 4,
     "metadata": {},
     "output_type": "execute_result"
    }
   ],
   "source": [
    "import pandas as pd\n",
    "df = pd.DataFrame({'name' :   ['김지훈', '이유진', '박동현', '김민지'],\n",
    "                   'english': [90, 80, 60, 70],\n",
    "                   'math':    [50, 60, 100, 20]})\n",
    "df"
   ]
  },
  {
   "cell_type": "code",
   "execution_count": 5,
   "id": "6f5d6dec-386f-42d4-81ea-2e73a2f5fc97",
   "metadata": {},
   "outputs": [
    {
     "data": {
      "text/plain": [
       "0    90\n",
       "1    80\n",
       "2    60\n",
       "3    70\n",
       "Name: english, dtype: int64"
      ]
     },
     "execution_count": 5,
     "metadata": {},
     "output_type": "execute_result"
    }
   ],
   "source": [
    "df['english']"
   ]
  },
  {
   "cell_type": "code",
   "execution_count": 6,
   "id": "d6b83082-315d-4852-9ed8-fcfcf6102f55",
   "metadata": {},
   "outputs": [
    {
     "data": {
      "text/plain": [
       "300"
      ]
     },
     "execution_count": 6,
     "metadata": {},
     "output_type": "execute_result"
    }
   ],
   "source": [
    "sum(df['english'])"
   ]
  },
  {
   "cell_type": "code",
   "execution_count": 7,
   "id": "319a6cf2-6718-4302-9f20-9a17f14cd2f6",
   "metadata": {},
   "outputs": [
    {
     "data": {
      "text/plain": [
       "75.0"
      ]
     },
     "execution_count": 7,
     "metadata": {},
     "output_type": "execute_result"
    }
   ],
   "source": [
    "sum(df['english'])/4"
   ]
  },
  {
   "cell_type": "code",
   "execution_count": 8,
   "id": "3dc6fb90-834c-4e6b-95d7-c8de98ff9eac",
   "metadata": {},
   "outputs": [
    {
     "data": {
      "text/plain": [
       "57.5"
      ]
     },
     "execution_count": 8,
     "metadata": {},
     "output_type": "execute_result"
    }
   ],
   "source": [
    "sum(df['math'])/4"
   ]
  },
  {
   "cell_type": "code",
   "execution_count": null,
   "id": "3483a862-57af-4c7a-a792-bdb4fb30f501",
   "metadata": {},
   "outputs": [],
   "source": []
  },
  {
   "cell_type": "code",
   "execution_count": 10,
   "id": "45e3396b-2415-4ba2-924a-5961329d441d",
   "metadata": {},
   "outputs": [
    {
     "data": {
      "text/html": [
       "<div>\n",
       "<style scoped>\n",
       "    .dataframe tbody tr th:only-of-type {\n",
       "        vertical-align: middle;\n",
       "    }\n",
       "\n",
       "    .dataframe tbody tr th {\n",
       "        vertical-align: top;\n",
       "    }\n",
       "\n",
       "    .dataframe thead th {\n",
       "        text-align: right;\n",
       "    }\n",
       "</style>\n",
       "<table border=\"1\" class=\"dataframe\">\n",
       "  <thead>\n",
       "    <tr style=\"text-align: right;\">\n",
       "      <th></th>\n",
       "      <th>순위</th>\n",
       "      <th>국가</th>\n",
       "      <th>증감</th>\n",
       "      <th>인구</th>\n",
       "      <th>연도</th>\n",
       "      <th>출처</th>\n",
       "    </tr>\n",
       "  </thead>\n",
       "  <tbody>\n",
       "    <tr>\n",
       "      <th>0</th>\n",
       "      <td>1</td>\n",
       "      <td>인도</td>\n",
       "      <td>증가</td>\n",
       "      <td>1409128296</td>\n",
       "      <td>2024</td>\n",
       "      <td>공식 인구시계</td>\n",
       "    </tr>\n",
       "    <tr>\n",
       "      <th>1</th>\n",
       "      <td>2</td>\n",
       "      <td>중화인민공화국</td>\n",
       "      <td>감소</td>\n",
       "      <td>1407929929</td>\n",
       "      <td>2024</td>\n",
       "      <td>공식 인구시계</td>\n",
       "    </tr>\n",
       "    <tr>\n",
       "      <th>2</th>\n",
       "      <td>3</td>\n",
       "      <td>미국</td>\n",
       "      <td>증가</td>\n",
       "      <td>336673595</td>\n",
       "      <td>2024</td>\n",
       "      <td>공식 인구시계</td>\n",
       "    </tr>\n",
       "    <tr>\n",
       "      <th>3</th>\n",
       "      <td>4</td>\n",
       "      <td>인도네시아</td>\n",
       "      <td>증가</td>\n",
       "      <td>281562465</td>\n",
       "      <td>2024</td>\n",
       "      <td>공식 인구시계</td>\n",
       "    </tr>\n",
       "    <tr>\n",
       "      <th>4</th>\n",
       "      <td>5</td>\n",
       "      <td>파키스탄</td>\n",
       "      <td>증가</td>\n",
       "      <td>252363571</td>\n",
       "      <td>2024</td>\n",
       "      <td>공식 인구시계</td>\n",
       "    </tr>\n",
       "    <tr>\n",
       "      <th>5</th>\n",
       "      <td>6</td>\n",
       "      <td>나이지리아</td>\n",
       "      <td>증가</td>\n",
       "      <td>236747130</td>\n",
       "      <td>2024</td>\n",
       "      <td>공식 인구시계</td>\n",
       "    </tr>\n",
       "    <tr>\n",
       "      <th>6</th>\n",
       "      <td>7</td>\n",
       "      <td>브라질</td>\n",
       "      <td>증가</td>\n",
       "      <td>220051512</td>\n",
       "      <td>2024</td>\n",
       "      <td>공식 인구시계</td>\n",
       "    </tr>\n",
       "    <tr>\n",
       "      <th>7</th>\n",
       "      <td>8</td>\n",
       "      <td>방글라데시</td>\n",
       "      <td>증가</td>\n",
       "      <td>168697184</td>\n",
       "      <td>2024</td>\n",
       "      <td>공식 인구시계</td>\n",
       "    </tr>\n",
       "    <tr>\n",
       "      <th>8</th>\n",
       "      <td>9</td>\n",
       "      <td>러시아</td>\n",
       "      <td>감소</td>\n",
       "      <td>140820810</td>\n",
       "      <td>2024</td>\n",
       "      <td>공식 인구시계</td>\n",
       "    </tr>\n",
       "    <tr>\n",
       "      <th>9</th>\n",
       "      <td>10</td>\n",
       "      <td>멕시코</td>\n",
       "      <td>증가</td>\n",
       "      <td>130739927</td>\n",
       "      <td>2024</td>\n",
       "      <td>공식 인구시계</td>\n",
       "    </tr>\n",
       "  </tbody>\n",
       "</table>\n",
       "</div>"
      ],
      "text/plain": [
       "   순위       국가  증감          인구    연도       출처\n",
       "0   1       인도  증가  1409128296  2024  공식 인구시계\n",
       "1   2  중화인민공화국  감소  1407929929  2024  공식 인구시계\n",
       "2   3       미국  증가   336673595  2024  공식 인구시계\n",
       "3   4    인도네시아  증가   281562465  2024  공식 인구시계\n",
       "4   5     파키스탄  증가   252363571  2024  공식 인구시계\n",
       "5   6    나이지리아  증가   236747130  2024  공식 인구시계\n",
       "6   7      브라질  증가   220051512  2024  공식 인구시계\n",
       "7   8    방글라데시  증가   168697184  2024  공식 인구시계\n",
       "8   9      러시아  감소   140820810  2024  공식 인구시계\n",
       "9  10      멕시코  증가   130739927  2024  공식 인구시계"
      ]
     },
     "execution_count": 10,
     "metadata": {},
     "output_type": "execute_result"
    }
   ],
   "source": [
    "import pandas as pd\n",
    "\n",
    "data = [\n",
    "    [1, '인도', '증가', 1409128296, 2024, '공식 인구시계'],\n",
    "    [2, '중화인민공화국', '감소', 1407929929, 2024, '공식 인구시계'],\n",
    "    [3, '미국', '증가', 336673595, 2024, '공식 인구시계'],\n",
    "    [4, '인도네시아', '증가', 281562465, 2024, '공식 인구시계'],\n",
    "    [5, '파키스탄', '증가', 252363571, 2024, '공식 인구시계'],\n",
    "    [6, '나이지리아', '증가', 236747130, 2024, '공식 인구시계'],\n",
    "    [7, '브라질', '증가', 220051512, 2024, '공식 인구시계'],\n",
    "    [8, '방글라데시', '증가', 168697184, 2024, '공식 인구시계'],\n",
    "    [9, '러시아', '감소', 140820810, 2024, '공식 인구시계'],\n",
    "    [10, '멕시코', '증가', 130739927, 2024, '공식 인구시계']\n",
    "]\n",
    "\n",
    "columns = ['순위', '국가', '증감', '인구', '연도', '출처']\n",
    "\n",
    "df = pd.DataFrame(data, columns=columns)\n",
    "\n",
    "df\n"
   ]
  },
  {
   "cell_type": "code",
   "execution_count": null,
   "id": "8d9ea645-91f3-4456-a55b-7b180df91ea8",
   "metadata": {},
   "outputs": [],
   "source": []
  }
 ],
 "metadata": {
  "kernelspec": {
   "display_name": "Python 3 (ipykernel)",
   "language": "python",
   "name": "python3"
  },
  "language_info": {
   "codemirror_mode": {
    "name": "ipython",
    "version": 3
   },
   "file_extension": ".py",
   "mimetype": "text/x-python",
   "name": "python",
   "nbconvert_exporter": "python",
   "pygments_lexer": "ipython3",
   "version": "3.12.7"
  }
 },
 "nbformat": 4,
 "nbformat_minor": 5
}
