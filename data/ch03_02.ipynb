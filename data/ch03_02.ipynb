{
 "cells": [
  {
   "cell_type": "code",
   "execution_count": 2,
   "id": "bee5ecd3-6f04-407f-8d28-b6ab596817ed",
   "metadata": {},
   "outputs": [],
   "source": [
    "# 함수 = 기능이 들어있음"
   ]
  },
  {
   "cell_type": "code",
   "execution_count": 3,
   "id": "7ae86a7f-1e2e-4f3a-9c14-34bed7b6014d",
   "metadata": {},
   "outputs": [
    {
     "data": {
      "text/plain": [
       "[1, 2, 3]"
      ]
     },
     "execution_count": 3,
     "metadata": {},
     "output_type": "execute_result"
    }
   ],
   "source": [
    "a = [1, 2, 3]\n",
    "a"
   ]
  },
  {
   "cell_type": "code",
   "execution_count": 11,
   "id": "7f8982d3-210d-4f55-bb7a-abe3aa5070ef",
   "metadata": {},
   "outputs": [
    {
     "data": {
      "text/plain": [
       "6"
      ]
     },
     "execution_count": 11,
     "metadata": {},
     "output_type": "execute_result"
    }
   ],
   "source": [
    "sum(a) # 합계"
   ]
  },
  {
   "cell_type": "code",
   "execution_count": 10,
   "id": "5d02520b-a6d8-477a-800e-6f4a9d10efae",
   "metadata": {},
   "outputs": [
    {
     "data": {
      "text/plain": [
       "3"
      ]
     },
     "execution_count": 10,
     "metadata": {},
     "output_type": "execute_result"
    }
   ],
   "source": [
    "max(a) # 최대값"
   ]
  },
  {
   "cell_type": "code",
   "execution_count": 9,
   "id": "84220937-3221-478e-94e8-e0304cacf8ef",
   "metadata": {},
   "outputs": [
    {
     "data": {
      "text/plain": [
       "1"
      ]
     },
     "execution_count": 9,
     "metadata": {},
     "output_type": "execute_result"
    }
   ],
   "source": [
    "min(a) # 최소값"
   ]
  },
  {
   "cell_type": "code",
   "execution_count": 12,
   "id": "32424571-6150-4087-a51b-24020e553717",
   "metadata": {},
   "outputs": [
    {
     "data": {
      "text/plain": [
       "3"
      ]
     },
     "execution_count": 12,
     "metadata": {},
     "output_type": "execute_result"
    }
   ],
   "source": [
    "len(a) # 길이"
   ]
  },
  {
   "cell_type": "code",
   "execution_count": 13,
   "id": "ac6391ff-62c2-4f55-b858-c4506c83e7cc",
   "metadata": {},
   "outputs": [
    {
     "data": {
      "text/plain": [
       "6"
      ]
     },
     "execution_count": 13,
     "metadata": {},
     "output_type": "execute_result"
    }
   ],
   "source": [
    "x_sum = sum(a)\n",
    "x_sum"
   ]
  },
  {
   "cell_type": "code",
   "execution_count": 16,
   "id": "7147a5fd-cbfd-4de8-bf41-fa119b976acf",
   "metadata": {},
   "outputs": [
    {
     "data": {
      "text/plain": [
       "3"
      ]
     },
     "execution_count": 16,
     "metadata": {},
     "output_type": "execute_result"
    }
   ],
   "source": [
    "x_max = max(a)\n",
    "x_max"
   ]
  },
  {
   "cell_type": "code",
   "execution_count": null,
   "id": "899a6841-9b16-45a2-bf4e-afe51822895f",
   "metadata": {},
   "outputs": [],
   "source": []
  }
 ],
 "metadata": {
  "kernelspec": {
   "display_name": "Python 3 (ipykernel)",
   "language": "python",
   "name": "python3"
  },
  "language_info": {
   "codemirror_mode": {
    "name": "ipython",
    "version": 3
   },
   "file_extension": ".py",
   "mimetype": "text/x-python",
   "name": "python",
   "nbconvert_exporter": "python",
   "pygments_lexer": "ipython3",
   "version": "3.12.7"
  }
 },
 "nbformat": 4,
 "nbformat_minor": 5
}
