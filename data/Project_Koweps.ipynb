{
 "cells": [
  {
   "cell_type": "markdown",
   "id": "1785b573",
   "metadata": {},
   "source": [
    "# 실전! 데이터 분석 프로젝트"
   ]
  },
  {
   "cell_type": "markdown",
   "id": "cb8b4fbe",
   "metadata": {},
   "source": [
    "### 분석 절차\n",
    "\n",
    "- 1. 한국복지패널 데이터 분석 준비하기\n",
    "- 2. 성별에 따른 월급 차이\n",
    "- 3. 나이와 월급의 관계\n",
    "- 4. 연령대에 따른 월급 차이 \n",
    "- 5. 연령대 및 성별 월급 차이\n"
   ]
  },
  {
   "cell_type": "markdown",
   "id": "d7b685ad",
   "metadata": {},
   "source": [
    "---"
   ]
  },
  {
   "cell_type": "markdown",
   "id": "1d1c3da9",
   "metadata": {
    "tags": []
   },
   "source": [
    "## <1> 한국복지패널 데이터 분석 준비하기"
   ]
  },
  {
   "cell_type": "markdown",
   "id": "d6eb1e9b-ef9e-4bd0-a17a-f4c4147262c0",
   "metadata": {},
   "source": [
    "- 파일: \"Koweps_hpwc14_2019_beta2.csv\"\n",
    "- 출처: 한국복지패널 데이터(https://www.koweps.re.kr:442/main.do)\n",
    "\n"
   ]
  },
  {
   "cell_type": "markdown",
   "id": "22a2f7b1",
   "metadata": {},
   "source": [
    "### 데이터 검토하기"
   ]
  },
  {
   "cell_type": "code",
   "execution_count": null,
   "id": "a91d2c23-a8c9-45a8-86c6-9370376380fb",
   "metadata": {},
   "outputs": [],
   "source": []
  },
  {
   "cell_type": "markdown",
   "id": "2bca3e7c",
   "metadata": {},
   "source": [
    "### 변수명 바꾸기, 변수 추출하기"
   ]
  },
  {
   "cell_type": "code",
   "execution_count": null,
   "id": "29638627-b805-412a-a439-24606a49ad05",
   "metadata": {},
   "outputs": [],
   "source": [
    "# h14_g3     -> sex     # 성별  \n",
    "# h14_g4     -> birth   # 태어난 연도  \n",
    "# p1402_8aq1 -> income  # 월급 "
   ]
  },
  {
   "cell_type": "code",
   "execution_count": null,
   "id": "440c7bcb-0731-4b9c-b4d7-eb64bf0d500b",
   "metadata": {},
   "outputs": [],
   "source": []
  },
  {
   "cell_type": "markdown",
   "id": "98b3d81f",
   "metadata": {
    "tags": []
   },
   "source": [
    "---\n",
    "\n",
    "## <2> 성별에 따른 월급 차이"
   ]
  },
  {
   "cell_type": "markdown",
   "id": "2f92dec8",
   "metadata": {},
   "source": [
    "**분석 절차**\n",
    "\n",
    "**1. 변수 검토 및 정제 - 성별**\n",
    "- 변수 검토, 수정\n",
    "- 이상치 확인, 결측 처리  \n",
    "\n",
    "<br>\n",
    "\n",
    "**2. 변수 검토 및 정제 - 월급**\n",
    "- 변수 검토, 수정\n",
    "- 이상치 확인, 결측 처리  \n",
    "\n",
    "<br>\n",
    "\n",
    "**3. 성별 월급 평균 분석**\n",
    "- 성별 월급 평균표 만들기\n",
    "- 그래프 만들기"
   ]
  },
  {
   "cell_type": "markdown",
   "id": "1811e53d",
   "metadata": {},
   "source": [
    "### 1. 변수 검토 및 정제 - 성별\n",
    "\n",
    "#### 변수 검토, 수정"
   ]
  },
  {
   "cell_type": "code",
   "execution_count": null,
   "id": "466584a9-8732-44ad-8faf-9fcd5c89a8cf",
   "metadata": {},
   "outputs": [],
   "source": []
  },
  {
   "cell_type": "markdown",
   "id": "f82e0a08",
   "metadata": {},
   "source": [
    "#### 이상치 확인, 결측 처리\n",
    "\n",
    "- 성별 이상치 : 모름/무응답=9 "
   ]
  },
  {
   "cell_type": "code",
   "execution_count": null,
   "id": "60e58201-62a0-4d1a-9221-7d4f7250c80e",
   "metadata": {},
   "outputs": [],
   "source": []
  },
  {
   "cell_type": "markdown",
   "id": "00cada5c",
   "metadata": {},
   "source": [
    "### 2. 변수 검토 및 정제 - 월급\n"
   ]
  },
  {
   "cell_type": "markdown",
   "id": "522ac6bd",
   "metadata": {},
   "source": [
    "#### 변수 검토, 수정"
   ]
  },
  {
   "cell_type": "code",
   "execution_count": null,
   "id": "ac98ef38-d80b-4f78-bf2e-6875d921d1fa",
   "metadata": {},
   "outputs": [],
   "source": []
  },
  {
   "cell_type": "markdown",
   "id": "0b8e6ee8",
   "metadata": {},
   "source": [
    "\n",
    "\n",
    "#### 이상치 확인, 결측 처리\n",
    "\n",
    "- 만 원 단위\n",
    "- '모름/무응답' = 9999\n"
   ]
  },
  {
   "cell_type": "code",
   "execution_count": null,
   "id": "d2ce44ec-322c-4bd6-b040-a21dde4513a7",
   "metadata": {},
   "outputs": [],
   "source": []
  },
  {
   "cell_type": "markdown",
   "id": "55cf86b1",
   "metadata": {},
   "source": [
    "### 3. 성별 월급 평균 분석"
   ]
  },
  {
   "cell_type": "markdown",
   "id": "4894f36a",
   "metadata": {},
   "source": [
    "#### 성별 월급 평균표 만들기"
   ]
  },
  {
   "cell_type": "code",
   "execution_count": null,
   "id": "fb78a3e9-218e-4e38-9ee1-7711944057bb",
   "metadata": {},
   "outputs": [],
   "source": []
  },
  {
   "cell_type": "markdown",
   "id": "2ad1c985",
   "metadata": {},
   "source": [
    "#### 그래프 만들기"
   ]
  },
  {
   "cell_type": "code",
   "execution_count": null,
   "id": "d0e3a652-eed0-4ba7-ba71-a2fb97a15344",
   "metadata": {},
   "outputs": [],
   "source": []
  },
  {
   "cell_type": "markdown",
   "id": "60940e29",
   "metadata": {},
   "source": [
    "---\n",
    "## <3> 나이와 월급의 관계"
   ]
  },
  {
   "cell_type": "markdown",
   "id": "faccd56b",
   "metadata": {},
   "source": [
    "**분석 절차**\n",
    "\n",
    "<br>\n",
    "\n",
    "**1. 변수 검토 및 정제 - 태어난 연도**\n",
    "- 변수 검토, 수정 \n",
    "- 이상치 확인, 결측 처리\n",
    "- 파생 변수 만들기 - 나이 \n",
    "\n",
    "<br>\n",
    "\n",
    "**2. 변수 검토 및 정제 - 월급**\n",
    "- 앞에서 완료\n",
    "\n",
    "<br>\n",
    "\n",
    "**3. 나이별 월급 평균 분석**\n",
    "- 나이별 월급 평균표 만들기 \n",
    "- 그래프 만들기 "
   ]
  },
  {
   "cell_type": "markdown",
   "id": "5a435fed",
   "metadata": {},
   "source": [
    "### 1. 변수 검토 및 정제 - 태어난 연도"
   ]
  },
  {
   "cell_type": "markdown",
   "id": "34b99626",
   "metadata": {},
   "source": [
    "#### 변수 검토, 수정\n",
    "\n",
    "- 태어난 연도 변수 검토"
   ]
  },
  {
   "cell_type": "code",
   "execution_count": null,
   "id": "38e60a1e-8a8f-46a1-bf2d-5fe7345248eb",
   "metadata": {},
   "outputs": [],
   "source": []
  },
  {
   "cell_type": "markdown",
   "id": "faa7126e",
   "metadata": {},
   "source": [
    "#### 이상치 확인, 결측 처리\n",
    "\n",
    "- '모름/무응답' = 9999"
   ]
  },
  {
   "cell_type": "code",
   "execution_count": null,
   "id": "5607ecaa-8d6b-4cfb-a3cf-ef436fc41fbd",
   "metadata": {},
   "outputs": [],
   "source": []
  },
  {
   "cell_type": "markdown",
   "id": "70313ff1",
   "metadata": {},
   "source": [
    "#### 파생변수 만들기 - 나이"
   ]
  },
  {
   "cell_type": "code",
   "execution_count": null,
   "id": "2bec212f-de49-431a-8434-34db6ddc20b1",
   "metadata": {},
   "outputs": [],
   "source": []
  },
  {
   "cell_type": "code",
   "execution_count": null,
   "id": "33bf73c3-bc39-4d6d-bfd6-52b4c36099cc",
   "metadata": {
    "tags": []
   },
   "outputs": [],
   "source": [
    "# 나이별 빈도 - 월급 결측치 여부별\n"
   ]
  },
  {
   "cell_type": "markdown",
   "id": "b6d41272",
   "metadata": {
    "tags": []
   },
   "source": [
    "### 2. 변수 검토 및 정제 - 월급\n",
    "- 앞에서 완료"
   ]
  },
  {
   "cell_type": "markdown",
   "id": "4f40724d",
   "metadata": {},
   "source": [
    "### 3. 나이별 월급 평균 분석"
   ]
  },
  {
   "cell_type": "markdown",
   "id": "684d5161",
   "metadata": {},
   "source": [
    "#### 나이별 월급 평균표 만들기"
   ]
  },
  {
   "cell_type": "code",
   "execution_count": null,
   "id": "0eefedf7-5eb8-4d4d-bd10-f0a5b1917dd7",
   "metadata": {},
   "outputs": [],
   "source": []
  },
  {
   "cell_type": "markdown",
   "id": "f145d2f5",
   "metadata": {},
   "source": [
    "#### 그래프 만들기"
   ]
  },
  {
   "cell_type": "code",
   "execution_count": null,
   "id": "6bf82e81-b743-4605-9cc5-078919a263e6",
   "metadata": {},
   "outputs": [],
   "source": []
  },
  {
   "cell_type": "markdown",
   "id": "e0f4c313",
   "metadata": {},
   "source": [
    "--- \n",
    "\n",
    "## <4> 연령대에 따른 월급 차이"
   ]
  },
  {
   "cell_type": "markdown",
   "id": "a7955795",
   "metadata": {},
   "source": [
    "**분석 절차**\n",
    "\n",
    "**1. 변수 검토 및 정제 - 연령대**\n",
    "- 연령대 변수 만들기\n",
    "\n",
    "<br>\n",
    "\n",
    "**2. 변수 검토 및 정제 - 월급**\n",
    "- 앞에서 완료\n",
    "\n",
    "<br>\n",
    "\n",
    "**3. 연령대별 월급 평균 분석**\n",
    "- 연령대별 월급 평균표 만들기\n",
    "- 그래프 만들기"
   ]
  },
  {
   "cell_type": "markdown",
   "id": "f6ff78a8",
   "metadata": {},
   "source": [
    "### 1. 변수 검토 및 정제 - 연령대"
   ]
  },
  {
   "cell_type": "markdown",
   "id": "100b41dc",
   "metadata": {},
   "source": [
    "#### 연령대 변수 만들기\n",
    "\n",
    "- 범주, 기준  \n",
    "  - 초년층, 30세 미만  \n",
    "  - 중년층, 30~59세  \n",
    "  - 노년층, 60세 이상"
   ]
  },
  {
   "cell_type": "code",
   "execution_count": null,
   "id": "711b912a-071f-4105-a7b7-9f7f0face0f2",
   "metadata": {},
   "outputs": [],
   "source": []
  },
  {
   "cell_type": "markdown",
   "id": "3c519edb",
   "metadata": {},
   "source": [
    "### 2. 변수 검토 및 정제 - 월급\n",
    "- 앞에서 완료"
   ]
  },
  {
   "cell_type": "markdown",
   "id": "2d0c95b1",
   "metadata": {},
   "source": [
    "### 3. 연령대별 월급 평균 분석"
   ]
  },
  {
   "cell_type": "markdown",
   "id": "3b513aa1",
   "metadata": {},
   "source": [
    "#### 연령대별 월급 평균표 만들기"
   ]
  },
  {
   "cell_type": "code",
   "execution_count": null,
   "id": "63e10608-03bf-44a2-a782-f7d76b85ca4f",
   "metadata": {},
   "outputs": [],
   "source": []
  },
  {
   "cell_type": "markdown",
   "id": "dc2376ab",
   "metadata": {},
   "source": [
    "#### 그래프 만들기"
   ]
  },
  {
   "cell_type": "code",
   "execution_count": null,
   "id": "72dda6c2-dc7e-439c-b010-f0ad7723173c",
   "metadata": {},
   "outputs": [],
   "source": []
  },
  {
   "cell_type": "markdown",
   "id": "e061f60a",
   "metadata": {},
   "source": [
    "---\n",
    "\n",
    "## <5> 연령대 및 성별 월급 차이"
   ]
  },
  {
   "cell_type": "markdown",
   "id": "05ffda06",
   "metadata": {},
   "source": [
    "**분석 절차**\n",
    "\n",
    "**1. 변수 검토 및 정제 - 연령대, 성별, 월급**\n",
    "- 앞에서 완료\n",
    "\n",
    "<br>\n",
    "\n",
    "**2. 연령대 및 성별 월급 평균 분석**\n",
    "- 연령대 및 성별 월급 평균표 만들기\n",
    "- 그래프 만들기"
   ]
  },
  {
   "cell_type": "markdown",
   "id": "2c227799",
   "metadata": {},
   "source": [
    "### 1. 변수 검토 및 정제 - 연령대, 성별, 월급\n",
    "- 앞에서 완료"
   ]
  },
  {
   "cell_type": "markdown",
   "id": "4e6642ea",
   "metadata": {},
   "source": [
    "### 2. 연령대 및 성별 월급 평균 분석"
   ]
  },
  {
   "cell_type": "markdown",
   "id": "b3fdd423",
   "metadata": {},
   "source": [
    "#### 연령대 및 성별 월급 평균표 만들기"
   ]
  },
  {
   "cell_type": "code",
   "execution_count": null,
   "id": "62447775-c44d-4064-8d5e-2a43d5376c09",
   "metadata": {},
   "outputs": [],
   "source": []
  },
  {
   "cell_type": "markdown",
   "id": "fb95f4d5",
   "metadata": {},
   "source": [
    "#### 그래프 만들기"
   ]
  },
  {
   "cell_type": "code",
   "execution_count": null,
   "id": "7f4527b5-9ccf-46e4-9679-da4d78535346",
   "metadata": {},
   "outputs": [],
   "source": []
  },
  {
   "cell_type": "markdown",
   "id": "a2a6904d",
   "metadata": {
    "tags": []
   },
   "source": [
    "---\n",
    "\n",
    "# 직접 분석해보기\n",
    "- 코드북 \"Koweps_Codebook_2019.xlsx\" 활용"
   ]
  },
  {
   "cell_type": "code",
   "execution_count": null,
   "id": "90438dc5",
   "metadata": {},
   "outputs": [],
   "source": []
  }
 ],
 "metadata": {
  "jupytext": {
   "cell_metadata_filter": "tags,eval,name,-all",
   "notebook_metadata_filter": "-all"
  },
  "kernelspec": {
   "display_name": "Python 3 (ipykernel)",
   "language": "python",
   "name": "python3"
  },
  "language_info": {
   "codemirror_mode": {
    "name": "ipython",
    "version": 3
   },
   "file_extension": ".py",
   "mimetype": "text/x-python",
   "name": "python",
   "nbconvert_exporter": "python",
   "pygments_lexer": "ipython3",
   "version": "3.11.5"
  }
 },
 "nbformat": 4,
 "nbformat_minor": 5
}
